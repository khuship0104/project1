{
 "cells": [
  {
   "cell_type": "markdown",
   "metadata": {},
   "source": [
    "# Introduction\n",
    "\n"
   ]
  },
  {
   "cell_type": "markdown",
   "metadata": {},
   "source": [
    "## Domain Background\n",
    "- Social networks represent how entities connect and interact, forming complex structures of relationships.\n",
    "\n",
    "- In the context of Facebook page-page networks, the nodes are public pages (companies, government orgs, politicians, TV shows) and edges represent mutual \"likes\" between them.\n",
    "\n",
    "- These connections often reveal shared interests, topical similarity, or strategic alignment between pages. Studying such networks helps uncover communities, influence patterns, and hompohily, offering insights into how information and popularity spread across different categories of pages.\n",
    "\n",
    "## Dataset Description\n",
    "\n",
    "The dataset used in this project is the Facebook Large Page-Page Network from the Stanford Large Network Dataset Collection (SNAP). The network was collected through the Facebook Graph API in November 2017.\n",
    "\n",
    "Dataset Info:\n",
    "\n",
    "- 22,470 nodes (verified Facebook pages)\n",
    "- 171,002 undirected edges (mutual 'likes' between pages)\n",
    "- Four node labels (Facebook-defined categories) - supports multi-class node classficiation\n",
    "    1. Politicians\n",
    "    2. Government Organizations\n",
    "    3. TV Shows\n",
    "    4. Companies\n",
    "- Node features extracted from site descriptions that the page owners created to summarize the purpose of the site.\n",
    "- No edge features.\n",
    "\n",
    "Citation:\n",
    "\n",
    "- B. Rozemberczki, C. Allen and R. Sarkar. Multi-scale Attributed Node Embedding. 2019.\n",
    "\n",
    "\n",
    "## Research Questions\n",
    "\n",
    "1. Do Facebook pages tend to connect more often with other pages from the same category (e.g., politician-to-politician, brand-to-brand)?\n",
    "\n",
    "2. Which Facebook pages connect different types of communities together (acting as structural bridges), and what kind of pages are they (e.g., media outlets, celebrities, organizations)?\n",
    "\n",
    "3. Does the network show signs of structural balance — for example, do pages that both like a third page also tend to like each other?"
   ]
  },
  {
   "cell_type": "markdown",
   "metadata": {},
   "source": [
    "# Methods"
   ]
  },
  {
   "cell_type": "markdown",
   "metadata": {},
   "source": [
    "## Overview\n"
   ]
  },
  {
   "cell_type": "markdown",
   "metadata": {},
   "source": [
    "Our analysis focused on three main aspects of the Page-Page network. First, we examined homophily, testing whether pages are more likely to connect with other in the same category. Then, we identified bridging pages that connect otherwise separate communities by analyzing centrality and community structure. Finally, we explored structural balance by checking whether pages that like same targets also tend to connect with each other. All the analyses were implemented in Julia using standard network analysis libraries and visualization tools.\n",
    "\n",
    "### Computational Approach\n",
    "  1. Data Preprocessing\n",
    "      - Load data and drop self-loops/duplicate undirected edges.\n",
    "      - Build an undirected simple graph\n",
    "      - Keep/label nodes with missing category as “Unknown.”\n",
    "\n",
    "  2. Homophily Analysis\n",
    "      - Created a category-to-category mixing matrix.\n",
    "      - Calculated assortativity to measure how often pages connect within same category.\n",
    "      - Compared results to a random baseline by shuffling category labels.\n",
    "\n",
    "  3. Structural Bridge Analysis\n",
    "      - Applied community detection (Louvain/Leiden) to identify page clusters.\n",
    "      - Calculated betweenness centrality and participation coefficients.\n",
    "      - Highlighted pages with high cross-community connections as structural bridges.\n",
    "\n",
    "  4. Structural Balance / Triadic Closure\n",
    "      - Measured clustering and triangle formation across the network.\n",
    "      - Calculated how often pages with common neighbors were also connected.\n",
    "      - Compared closure levels to a random baseline."
   ]
  },
  {
   "cell_type": "markdown",
   "metadata": {},
   "source": [
    "## Data Preprocessing"
   ]
  },
  {
   "cell_type": "code",
   "execution_count": 8,
   "metadata": {},
   "outputs": [
    {
     "name": "stderr",
     "output_type": "stream",
     "text": [
      "WARNING: replacing module NetworkPreprocessing.\n"
     ]
    },
    {
     "data": {
      "text/plain": [
       "4"
      ]
     },
     "metadata": {},
     "output_type": "display_data"
    }
   ],
   "source": [
    "# Data Preprocessing\n",
    "include(\"src/preprocessing.jl\")\n",
    "\n",
    "data = NetworkPreprocessing.preprocess(\"data/musae_facebook_edges.csv\",\n",
    "                  \"data/musae_facebook_target.csv\",\n",
    "                  \"data/musae_facebook_features.json\")\n",
    "\n",
    "g            = data.g\n",
    "labels       = data.labels\n",
    "label_code   = data.label_code\n",
    "label_levels = data.label_levels\n",
    "X            = data.X\n",
    "K            = data.K\n"
   ]
  },
  {
   "cell_type": "markdown",
   "metadata": {},
   "source": [
    "## Homophily Analysis"
   ]
  },
  {
   "cell_type": "code",
   "execution_count": 34,
   "metadata": {},
   "outputs": [
    {
     "name": "stderr",
     "output_type": "stream",
     "text": [
      "WARNING: replacing module NetworkMetrics.\n"
     ]
    },
    {
     "data": {
      "text/plain": [
       "(0.8206200407380531, 0.8853198925203281, 0.2651177250822885, 3.339346293219506)"
      ]
     },
     "metadata": {},
     "output_type": "display_data"
    }
   ],
   "source": [
    "# Homophily Analysis\n",
    "include(\"src/homophily.jl\")\n",
    "\n",
    "hom = NetworkMetrics.summarize_homophily(g, label_code, K; label_levels=label_levels)\n",
    "(hom.r, hom.edge_h, hom.base, hom.ratio)"
   ]
  },
  {
   "cell_type": "markdown",
   "metadata": {},
   "source": [
    "## Structural Bridge "
   ]
  },
  {
   "cell_type": "code",
   "execution_count": 37,
   "metadata": {},
   "outputs": [
    {
     "name": "stderr",
     "output_type": "stream",
     "text": [
      "WARNING: replacing module NetworkBridge.\n",
      "┌ Warning: CommunityDetection.jl not found; using label_propagation from Graphs.jl\n",
      "└ @ Main.NetworkBridge /workspaces/project1/src/structuralBridge.jl:16\n"
     ]
    },
    {
     "ename": "UndefVarError",
     "evalue": "UndefVarError: `targets_df` not defined",
     "output_type": "error",
     "traceback": [
      "UndefVarError: `targets_df` not defined\n",
      "\n",
      "Stacktrace:\n",
      " [1] top-level scope\n",
      "   @ /workspaces/project1/jl_notebook_cell_df34fa98e69747e1a8f8a730347b8e2f_X25sdnNjb2RlLXJlbW90ZQ==.jl:4"
     ]
    }
   ],
   "source": [
    "include(\"src/structuralBridge.jl\")\n",
    "\n",
    "comm_labels = NetworkBridge.community_labels(g)\n",
    "results = NetworkBridge.summarize_bridges(g, comm_labels, targets_df)"
   ]
  },
  {
   "cell_type": "markdown",
   "metadata": {},
   "source": [
    "## Structural Balance"
   ]
  },
  {
   "cell_type": "code",
   "execution_count": 36,
   "metadata": {},
   "outputs": [
    {
     "name": "stdout",
     "output_type": "stream",
     "text": [
      "====== STRUCTURAL BALANCE SUMMARY ======\n",
      "Triangles (closed triads):            794953\n",
      "Balanced triads ratio:                0.9991\n",
      "\n",
      "Friend-of-friend positive closure:\n",
      "  Qualifying wedges (A–B, A–C +pos):  8462510\n",
      "  Closed positive wedges (B–C +pos):  2215872\n",
      "  Closure rate (observed):            0.2618\n",
      "\n"
     ]
    },
    {
     "name": "stderr",
     "output_type": "stream",
     "text": [
      "WARNING: replacing module NetworkBalance.\n"
     ]
    },
    {
     "data": {
      "text/plain": [
       "(n_triads = 794953, balance_ratio = 0.9991408297094294, fof_pos_closure = 0.2618457171690196, fof_baseline_mean = NaN, fof_baseline_std = NaN, fof_lift = NaN, fof_zscore = NaN)"
      ]
     },
     "metadata": {},
     "output_type": "display_data"
    }
   ],
   "source": [
    "include(\"src/structuralBalance.jl\")\n",
    "\n",
    "balance_stats = NetworkBalance.structural_balance_summary(g, label_code; R=50)"
   ]
  },
  {
   "cell_type": "markdown",
   "metadata": {},
   "source": [
    "# Results"
   ]
  },
  {
   "cell_type": "markdown",
   "metadata": {},
   "source": [
    "# Discussion"
   ]
  },
  {
   "cell_type": "markdown",
   "metadata": {},
   "source": [
    "# Conclusion"
   ]
  }
 ],
 "metadata": {
  "kernelspec": {
   "display_name": "Julia 1.10.10",
   "language": "julia",
   "name": "julia-1.10"
  },
  "language_info": {
   "file_extension": ".jl",
   "mimetype": "application/julia",
   "name": "julia",
   "version": "1.10.10"
  },
  "orig_nbformat": 4,
  "vscode": {
   "interpreter": {
    "hash": "aee8b7b246df8f9039afb4144a1f6fd8d2ca17a180786b69acc140d282b71a49"
   }
  }
 },
 "nbformat": 4,
 "nbformat_minor": 2
}
