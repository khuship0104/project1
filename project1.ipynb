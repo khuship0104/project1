{
 "cells": [
  {
   "cell_type": "code",
   "execution_count": 2,
   "metadata": {},
   "outputs": [
    {
     "name": "stderr",
     "output_type": "stream",
     "text": [
      "\u001b[32m\u001b[1m  Activating\u001b[22m\u001b[39m project at `c:\\Users\\rajbo\\OneDrive\\Documents\\GitHub\\project1`\n",
      "\u001b[32m\u001b[1mPrecompiling\u001b[22m\u001b[39m packages...\n",
      "   1205.2 ms\u001b[32m  ✓ \u001b[39m\u001b[90mDataValueInterfaces\u001b[39m\n",
      "   1174.4 ms\u001b[32m  ✓ \u001b[39m\u001b[90mReexport\u001b[39m\n",
      "   1190.6 ms\u001b[32m  ✓ \u001b[39m\u001b[90mInvertedIndices\u001b[39m\n",
      "   1449.6 ms\u001b[32m  ✓ \u001b[39m\u001b[90mOrderedCollections\u001b[39m\n",
      "   1199.5 ms\u001b[32m  ✓ \u001b[39m\u001b[90mLaTeXStrings\u001b[39m\n",
      "   1134.4 ms\u001b[32m  ✓ \u001b[39m\u001b[90mInflate\u001b[39m\n",
      "   1312.1 ms\u001b[32m  ✓ \u001b[39mStatistics\n",
      "   1352.4 ms\u001b[32m  ✓ \u001b[39m\u001b[90mDocStringExtensions\u001b[39m\n",
      "   1918.1 ms\u001b[32m  ✓ \u001b[39m\u001b[90mInlineStrings\u001b[39m\n",
      "   1108.8 ms\u001b[32m  ✓ \u001b[39m\u001b[90mIteratorInterfaceExtensions\u001b[39m\n",
      "   1221.3 ms\u001b[32m  ✓ \u001b[39m\u001b[90mDataAPI\u001b[39m\n",
      "   1437.9 ms\u001b[32m  ✓ \u001b[39m\u001b[90mWorkerUtilities\u001b[39m\n",
      "   1252.5 ms\u001b[32m  ✓ \u001b[39m\u001b[90mStatsAPI\u001b[39m\n",
      "   3428.8 ms\u001b[32m  ✓ \u001b[39m\u001b[90mIrrationalConstants\u001b[39m\n",
      "   1049.9 ms\u001b[32m  ✓ \u001b[39m\u001b[90mPtrArrays\u001b[39m\n",
      "   1106.1 ms\u001b[32m  ✓ \u001b[39m\u001b[90mStaticArraysCore\u001b[39m\n",
      "   1522.6 ms\u001b[32m  ✓ \u001b[39m\u001b[90mTranscodingStreams\u001b[39m\n",
      "   2742.5 ms\u001b[32m  ✓ \u001b[39m\u001b[90mCrayons\u001b[39m\n",
      "   1785.4 ms\u001b[32m  ✓ \u001b[39m\u001b[90mRequires\u001b[39m\n",
      "   1312.9 ms\u001b[32m  ✓ \u001b[39m\u001b[90mCompat\u001b[39m\n",
      "   1851.2 ms\u001b[32m  ✓ \u001b[39m\u001b[90mStructTypes\u001b[39m\n",
      "   5388.9 ms\u001b[32m  ✓ \u001b[39m\u001b[90mMacroTools\u001b[39m\n",
      "   4584.7 ms\u001b[32m  ✓ \u001b[39m\u001b[90mSentinelArrays\u001b[39m\n",
      "   1396.6 ms\u001b[32m  ✓ \u001b[39m\u001b[90mInlineStrings → ParsersExt\u001b[39m\n",
      "   2813.3 ms\u001b[32m  ✓ \u001b[39mStatistics → SparseArraysExt\n",
      "   4071.6 ms\u001b[32m  ✓ \u001b[39m\u001b[90mStringManipulation\u001b[39m\n",
      "   1264.2 ms\u001b[32m  ✓ \u001b[39m\u001b[90mTableTraits\u001b[39m\n",
      "   4132.8 ms\u001b[32m  ✓ \u001b[39m\u001b[90mDataStructures\u001b[39m\n",
      "   1252.7 ms\u001b[32m  ✓ \u001b[39m\u001b[90mMissings\u001b[39m\n",
      "   1390.8 ms\u001b[32m  ✓ \u001b[39m\u001b[90mPooledArrays\u001b[39m\n",
      "   1218.0 ms\u001b[32m  ✓ \u001b[39m\u001b[90mAliasTables\u001b[39m\n",
      "   1682.5 ms\u001b[32m  ✓ \u001b[39m\u001b[90mLogExpFunctions\u001b[39m\n",
      "   1062.2 ms\u001b[32m  ✓ \u001b[39m\u001b[90mCompat → CompatLinearAlgebraExt\u001b[39m\n",
      "   1139.1 ms\u001b[32m  ✓ \u001b[39m\u001b[90mCodecZlib\u001b[39m\n",
      "   1769.4 ms\u001b[32m  ✓ \u001b[39m\u001b[90mSimpleTraits\u001b[39m\n",
      "   2027.1 ms\u001b[32m  ✓ \u001b[39m\u001b[90mTables\u001b[39m\n",
      "   2041.9 ms\u001b[32m  ✓ \u001b[39m\u001b[90mWeakRefStrings\u001b[39m\n",
      "   1412.4 ms\u001b[32m  ✓ \u001b[39m\u001b[90mSortingAlgorithms\u001b[39m\n",
      "   2384.6 ms\u001b[32m  ✓ \u001b[39m\u001b[90mFilePathsBase\u001b[39m\n",
      "   4786.9 ms\u001b[32m  ✓ \u001b[39mCategoricalArrays\n",
      "   1530.7 ms\u001b[32m  ✓ \u001b[39m\u001b[90mFilePathsBase → FilePathsBaseMmapExt\u001b[39m\n",
      "   1513.4 ms\u001b[32m  ✓ \u001b[39mCategoricalArrays → CategoricalArraysStructTypesExt\n",
      "   5818.5 ms\u001b[32m  ✓ \u001b[39mStatsBase\n",
      "┌ Warning: attempting to remove probably stale pidfile\n",
      "│   path = C:\\Users\\rajbo\\.julia\\compiled\\v1.12\\CSV\\HHBkp_wCXXU.ji.pidfile\n",
      "└ @ FileWatching.Pidfile C:\\Users\\rajbo\\.julia\\juliaup\\julia-1.12.0+0.x64.w64.mingw32\\share\\julia\\stdlib\\v1.12\\FileWatching\\src\\pidfile.jl:247\n",
      "   1636.2 ms\u001b[32m  ✓ \u001b[39mCategoricalArrays → CategoricalArraysSentinelArraysExt\n",
      "   4544.8 ms\u001b[32m  ✓ \u001b[39mCategoricalArrays → CategoricalArraysStatsBaseExt\n",
      "  17789.7 ms\u001b[32m  ✓ \u001b[39mJSON3\n",
      "  18933.1 ms\u001b[32m  ✓ \u001b[39m\u001b[90mStaticArrays\u001b[39m\n",
      "   1568.9 ms\u001b[32m  ✓ \u001b[39m\u001b[90mStaticArrays → StaticArraysStatisticsExt\u001b[39m\n",
      "   3341.7 ms\u001b[32m  ✓ \u001b[39m\u001b[90mArnoldiMethod\u001b[39m\n",
      "  13047.8 ms\u001b[32m  ✓ \u001b[39mGraphs\n",
      "  44633.4 ms\u001b[32m  ✓ \u001b[39mCSV\n",
      "  59368.9 ms\u001b[32m  ✓ \u001b[39m\u001b[90mPrettyTables\u001b[39m\n",
      "  68781.2 ms\u001b[32m  ✓ \u001b[39mDataFrames\n",
      "  53 dependencies successfully precompiled in 147 seconds. 22 already precompiled.\n"
     ]
    }
   ],
   "source": [
    "using Pkg\n",
    "Pkg.activate(\".\")\n",
    "Pkg.instantiate()   \n"
   ]
  },
  {
   "cell_type": "code",
   "execution_count": 6,
   "metadata": {},
   "outputs": [
    {
     "name": "stdout",
     "output_type": "stream",
     "text": [
      "No. of Nodes in the Graph: 22470\n",
      "No. of Edges in the Graph: 171002\n",
      "Fraction of triangles that are closed: 0.23249967909155347\n",
      "Percent of edges that are bridges: 1.7385761570040115\n",
      "No. of edges that form a bridge: 2973\n"
     ]
    },
    {
     "data": {
      "text/plain": [
       "{22470, 171002} undirected simple Int64 graph"
      ]
     },
     "metadata": {},
     "output_type": "display_data"
    }
   ],
   "source": [
    "include(\"src/Describe.jl\")   \n",
    "using .Describe  \n",
    "g = Describe.analyze_network(\"data/musae_facebook_edges.csv\")   \n",
    "\n"
   ]
  },
  {
   "cell_type": "code",
   "execution_count": null,
   "metadata": {},
   "outputs": [],
   "source": []
  }
 ],
 "metadata": {
  "kernelspec": {
   "display_name": "Julia 1.12.0",
   "language": "julia",
   "name": "julia-1.12"
  },
  "language_info": {
   "file_extension": ".jl",
   "mimetype": "application/julia",
   "name": "julia",
   "version": "1.12.0"
  },
  "orig_nbformat": 4,
  "vscode": {
   "interpreter": {
    "hash": "aee8b7b246df8f9039afb4144a1f6fd8d2ca17a180786b69acc140d282b71a49"
   }
  }
 },
 "nbformat": 4,
 "nbformat_minor": 2
}
