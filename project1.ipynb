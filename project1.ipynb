{
 "cells": [
  {
   "cell_type": "markdown",
   "metadata": {},
   "source": [
    "# Introduction\n",
    "\n"
   ]
  },
  {
   "cell_type": "markdown",
   "metadata": {},
   "source": [
    "## Domain Background\n",
    "- Social networks represent how entities connect and interact, forming complex structures of relationships.\n",
    "\n",
    "- In the context of Facebook page-page networks, the nodes are public pages (companies, government orgs, politicians, TV shows) and edges represent mutual \"likes\" between them.\n",
    "\n",
    "- These connections often reveal shared interests, topical similarity, or strategic alignment between pages. Studying such networks helps uncover communities, influence patterns, and hompohily, offering insights into how information and popularity spread across different categories of pages.\n",
    "\n",
    "## Dataset Description\n",
    "\n",
    "The dataset used in this project is the Facebook Large Page-Page Network from the Stanford Large Network Dataset Collection (SNAP). The network was collected through the Facebook Graph API in November 2017.\n",
    "\n",
    "Dataset Info:\n",
    "\n",
    "- 22,470 nodes (verified Facebook pages)\n",
    "- 171,002 undirected edges (mutual 'likes' between pages)\n",
    "- Four node labels (Facebook-defined categories) - supports multi-class node classficiation\n",
    "    1. Politicians\n",
    "    2. Government Organizations\n",
    "    3. TV Shows\n",
    "    4. Companies\n",
    "- Node features extracted from site descriptions that the page owners created to summarize the purpose of the site.\n",
    "- No edge features.\n",
    "\n",
    "Citation:\n",
    "\n",
    "- B. Rozemberczki, C. Allen and R. Sarkar. Multi-scale Attributed Node Embedding. 2019.\n",
    "\n",
    "\n",
    "## Research Questions\n",
    "\n",
    "1. Do Facebook pages tend to connect more often with other pages from the same category (e.g., politician-to-politician, brand-to-brand)?\n",
    "\n",
    "2. Which Facebook pages connect different types of communities together (acting as structural bridges), and what kind of pages are they (e.g., media outlets, celebrities, organizations)?\n",
    "\n",
    "3. Does the network show signs of structural balance — for example, do pages that both like a third page also tend to like each other?"
   ]
  },
  {
   "cell_type": "markdown",
   "metadata": {},
   "source": [
    "# Methods"
   ]
  },
  {
   "cell_type": "markdown",
   "metadata": {},
   "source": [
    "## Overview\n"
   ]
  },
  {
   "cell_type": "markdown",
   "metadata": {},
   "source": [
    "Our analysis focused on three main aspects of the Page-Page network. First, we examined homophily, testing whether pages are more likely to connect with other in the same category. Then, we identified bridging pages that connect otherwise separate communities by analyzing centrality and community structure. Finally, we explored structural balance by checking whether pages that like same targets also tend to connect with each other. All the analyses were implemented in Julia using standard network analysis libraries and visualization tools.\n",
    "\n",
    "### Computational Approach\n",
    "  1. Data Preprocessing\n",
    "      - Load data and drop self-loops/duplicate undirected edges.\n",
    "      - Build an undirected simple graph\n",
    "      - Keep/label nodes with missing category as “Unknown.”\n",
    "\n",
    "  2. Homophily Analysis\n",
    "      - Created a category-to-category mixing matrix.\n",
    "      - Calculated assortativity to measure how often pages connect within same category.\n",
    "      - Compared results to a random baseline by shuffling category labels.\n",
    "\n",
    "  3. Structural Bridge Analysis\n",
    "      - Applied community detection (Louvain/Leiden) to identify page clusters.\n",
    "      - Calculated betweenness centrality and participation coefficients.\n",
    "      - Highlighted pages with high cross-community connections as structural bridges.\n",
    "\n",
    "  4. Structural Balance / Triadic Closure\n",
    "      - Measured clustering and triangle formation across the network.\n",
    "      - Calculated how often pages with common neighbors were also connected.\n",
    "      - Compared closure levels to a random baseline."
   ]
  },
  {
   "cell_type": "markdown",
   "metadata": {},
   "source": [
    "## Data Preprocessing"
   ]
  },
  {
   "cell_type": "code",
   "execution_count": 4,
   "metadata": {},
   "outputs": [
    {
     "name": "stderr",
     "output_type": "stream",
     "text": [
      "WARNING: replacing module NetworkPreprocessing.\n"
     ]
    },
    {
     "data": {
      "text/html": [
       "<div><div style = \"float: left;\"><span>22470×4 DataFrame</span></div><div style = \"float: right; font-style: italic;\"><span>22445 rows omitted</span></div><div style = \"clear: both;\"></div></div><div class = \"data-frame\" style = \"overflow-x: scroll;\"><table class = \"data-frame\" style = \"margin-bottom: 6px;\"><thead><tr class = \"columnLabelRow\"><th class = \"stubheadLabel\" style = \"font-weight: bold; text-align: right;\">Row</th><th style = \"text-align: left;\">id</th><th style = \"text-align: left;\">facebook_id</th><th style = \"text-align: left;\">page_name</th><th style = \"text-align: left;\">page_type</th></tr><tr class = \"columnLabelRow\"><th class = \"stubheadLabel\" style = \"font-weight: bold; text-align: right;\"></th><th title = \"Int64\" style = \"text-align: left;\">Int64</th><th title = \"Int64\" style = \"text-align: left;\">Int64</th><th title = \"String\" style = \"text-align: left;\">String</th><th title = \"InlineStrings.String15\" style = \"text-align: left;\">String15</th></tr></thead><tbody><tr class = \"dataRow\"><td class = \"rowLabel\" style = \"font-weight: bold; text-align: right;\">1</td><td style = \"text-align: right;\">0</td><td style = \"text-align: right;\">145647315578475</td><td style = \"text-align: left;\">The Voice of China 中国好声音</td><td style = \"text-align: left;\">tvshow</td></tr><tr class = \"dataRow\"><td class = \"rowLabel\" style = \"font-weight: bold; text-align: right;\">2</td><td style = \"text-align: right;\">1</td><td style = \"text-align: right;\">191483281412</td><td style = \"text-align: left;\">U.S. Consulate General Mumbai</td><td style = \"text-align: left;\">government</td></tr><tr class = \"dataRow\"><td class = \"rowLabel\" style = \"font-weight: bold; text-align: right;\">3</td><td style = \"text-align: right;\">2</td><td style = \"text-align: right;\">144761358898518</td><td style = \"text-align: left;\">ESET</td><td style = \"text-align: left;\">company</td></tr><tr class = \"dataRow\"><td class = \"rowLabel\" style = \"font-weight: bold; text-align: right;\">4</td><td style = \"text-align: right;\">3</td><td style = \"text-align: right;\">568700043198473</td><td style = \"text-align: left;\">Consulate General of Switzerland in Montreal</td><td style = \"text-align: left;\">government</td></tr><tr class = \"dataRow\"><td class = \"rowLabel\" style = \"font-weight: bold; text-align: right;\">5</td><td style = \"text-align: right;\">4</td><td style = \"text-align: right;\">1408935539376139</td><td style = \"text-align: left;\">Mark Bailey MP - Labor for Miller</td><td style = \"text-align: left;\">politician</td></tr><tr class = \"dataRow\"><td class = \"rowLabel\" style = \"font-weight: bold; text-align: right;\">6</td><td style = \"text-align: right;\">5</td><td style = \"text-align: right;\">134464673284112</td><td style = \"text-align: left;\">Victor Dominello MP</td><td style = \"text-align: left;\">politician</td></tr><tr class = \"dataRow\"><td class = \"rowLabel\" style = \"font-weight: bold; text-align: right;\">7</td><td style = \"text-align: right;\">6</td><td style = \"text-align: right;\">282657255260177</td><td style = \"text-align: left;\">Jean-Claude Poissant</td><td style = \"text-align: left;\">politician</td></tr><tr class = \"dataRow\"><td class = \"rowLabel\" style = \"font-weight: bold; text-align: right;\">8</td><td style = \"text-align: right;\">7</td><td style = \"text-align: right;\">239338246176789</td><td style = \"text-align: left;\">Deputado Ademir Camilo</td><td style = \"text-align: left;\">politician</td></tr><tr class = \"dataRow\"><td class = \"rowLabel\" style = \"font-weight: bold; text-align: right;\">9</td><td style = \"text-align: right;\">8</td><td style = \"text-align: right;\">544818128942324</td><td style = \"text-align: left;\">T.C. Mezar-ı Şerif Başkonsolosluğu</td><td style = \"text-align: left;\">government</td></tr><tr class = \"dataRow\"><td class = \"rowLabel\" style = \"font-weight: bold; text-align: right;\">10</td><td style = \"text-align: right;\">9</td><td style = \"text-align: right;\">285155655705</td><td style = \"text-align: left;\">Army ROTC Fighting Saints Battalion</td><td style = \"text-align: left;\">government</td></tr><tr class = \"dataRow\"><td class = \"rowLabel\" style = \"font-weight: bold; text-align: right;\">11</td><td style = \"text-align: right;\">10</td><td style = \"text-align: right;\">295294787190810</td><td style = \"text-align: left;\">NASA Student Launch</td><td style = \"text-align: left;\">government</td></tr><tr class = \"dataRow\"><td class = \"rowLabel\" style = \"font-weight: bold; text-align: right;\">12</td><td style = \"text-align: right;\">11</td><td style = \"text-align: right;\">837707072929819</td><td style = \"text-align: left;\">Eliziane Gama</td><td style = \"text-align: left;\">politician</td></tr><tr class = \"dataRow\"><td class = \"rowLabel\" style = \"font-weight: bold; text-align: right;\">13</td><td style = \"text-align: right;\">12</td><td style = \"text-align: right;\">189778427932</td><td style = \"text-align: left;\">Socialstyrelsen</td><td style = \"text-align: left;\">government</td></tr><tr><td style = \"text-align: right;\">&vellip;</td><td style = \"text-align: right;\">&vellip;</td><td style = \"text-align: right;\">&vellip;</td><td style = \"text-align: left;\">&vellip;</td><td style = \"text-align: left;\">&vellip;</td></tr><tr class = \"dataRow\"><td class = \"rowLabel\" style = \"font-weight: bold; text-align: right;\">22459</td><td style = \"text-align: right;\">22458</td><td style = \"text-align: right;\">475061202627239</td><td style = \"text-align: left;\">Nicholas Sarwark</td><td style = \"text-align: left;\">politician</td></tr><tr class = \"dataRow\"><td class = \"rowLabel\" style = \"font-weight: bold; text-align: right;\">22460</td><td style = \"text-align: right;\">22459</td><td style = \"text-align: right;\">543519302451197</td><td style = \"text-align: left;\">Pizzaro</td><td style = \"text-align: left;\">company</td></tr><tr class = \"dataRow\"><td class = \"rowLabel\" style = \"font-weight: bold; text-align: right;\">22461</td><td style = \"text-align: right;\">22460</td><td style = \"text-align: right;\">208741279137778</td><td style = \"text-align: left;\">US National Weather Service Amarillo Texas</td><td style = \"text-align: left;\">government</td></tr><tr class = \"dataRow\"><td class = \"rowLabel\" style = \"font-weight: bold; text-align: right;\">22462</td><td style = \"text-align: right;\">22461</td><td style = \"text-align: right;\">238809486131187</td><td style = \"text-align: left;\">Bosch Professional Power Tools and Accessories</td><td style = \"text-align: left;\">company</td></tr><tr class = \"dataRow\"><td class = \"rowLabel\" style = \"font-weight: bold; text-align: right;\">22463</td><td style = \"text-align: right;\">22462</td><td style = \"text-align: right;\">562512487251956</td><td style = \"text-align: left;\">Werner Langen</td><td style = \"text-align: left;\">politician</td></tr><tr class = \"dataRow\"><td class = \"rowLabel\" style = \"font-weight: bold; text-align: right;\">22464</td><td style = \"text-align: right;\">22463</td><td style = \"text-align: right;\">170298223273</td><td style = \"text-align: left;\">Memphis VA Medical Center</td><td style = \"text-align: left;\">government</td></tr><tr class = \"dataRow\"><td class = \"rowLabel\" style = \"font-weight: bold; text-align: right;\">22465</td><td style = \"text-align: right;\">22464</td><td style = \"text-align: right;\">198333355974</td><td style = \"text-align: left;\">Keurig</td><td style = \"text-align: left;\">company</td></tr><tr class = \"dataRow\"><td class = \"rowLabel\" style = \"font-weight: bold; text-align: right;\">22466</td><td style = \"text-align: right;\">22465</td><td style = \"text-align: right;\">1379955382222841</td><td style = \"text-align: left;\">Kurt Wiegel MdL</td><td style = \"text-align: left;\">politician</td></tr><tr class = \"dataRow\"><td class = \"rowLabel\" style = \"font-weight: bold; text-align: right;\">22467</td><td style = \"text-align: right;\">22466</td><td style = \"text-align: right;\">1651527995097082</td><td style = \"text-align: left;\">dubdub Stories</td><td style = \"text-align: left;\">company</td></tr><tr class = \"dataRow\"><td class = \"rowLabel\" style = \"font-weight: bold; text-align: right;\">22468</td><td style = \"text-align: right;\">22467</td><td style = \"text-align: right;\">155369444540412</td><td style = \"text-align: left;\">Ministerio del Interior - Paraguay</td><td style = \"text-align: left;\">government</td></tr><tr class = \"dataRow\"><td class = \"rowLabel\" style = \"font-weight: bold; text-align: right;\">22469</td><td style = \"text-align: right;\">22468</td><td style = \"text-align: right;\">175067819212798</td><td style = \"text-align: left;\">Tottus Perú</td><td style = \"text-align: left;\">company</td></tr><tr class = \"dataRow\"><td class = \"rowLabel\" style = \"font-weight: bold; text-align: right;\">22470</td><td style = \"text-align: right;\">22469</td><td style = \"text-align: right;\">27208897877</td><td style = \"text-align: left;\">SPORT1 Doppelpass</td><td style = \"text-align: left;\">tvshow</td></tr></tbody></table></div>"
      ],
      "text/latex": [
       "\\begin{tabular}{r|cccc}\n",
       "\t& id & facebook\\_id & page\\_name & page\\_type\\\\\n",
       "\t\\hline\n",
       "\t& Int64 & Int64 & String & String15\\\\\n",
       "\t\\hline\n",
       "\t1 & 0 & 145647315578475 & The Voice of China 中国好声音 & tvshow \\\\\n",
       "\t2 & 1 & 191483281412 & U.S. Consulate General Mumbai & government \\\\\n",
       "\t3 & 2 & 144761358898518 & ESET & company \\\\\n",
       "\t4 & 3 & 568700043198473 & Consulate General of Switzerland in Montreal & government \\\\\n",
       "\t5 & 4 & 1408935539376139 & Mark Bailey MP - Labor for Miller & politician \\\\\n",
       "\t6 & 5 & 134464673284112 & Victor Dominello MP & politician \\\\\n",
       "\t7 & 6 & 282657255260177 & Jean-Claude Poissant & politician \\\\\n",
       "\t8 & 7 & 239338246176789 & Deputado Ademir Camilo & politician \\\\\n",
       "\t9 & 8 & 544818128942324 & T.C. Mezar-ı Şerif Başkonsolosluğu & government \\\\\n",
       "\t10 & 9 & 285155655705 & Army ROTC Fighting Saints Battalion & government \\\\\n",
       "\t11 & 10 & 295294787190810 & NASA Student Launch & government \\\\\n",
       "\t12 & 11 & 837707072929819 & Eliziane Gama & politician \\\\\n",
       "\t13 & 12 & 189778427932 & Socialstyrelsen & government \\\\\n",
       "\t14 & 13 & 153345494745119 & Brisbane Water LAC - NSW Police Force & government \\\\\n",
       "\t15 & 14 & 374623305761 & NASA's Marshall Space Flight Center & government \\\\\n",
       "\t16 & 15 & 135948233146402 & Municipio de Lomas de Zamora & government \\\\\n",
       "\t17 & 16 & 218961468129322 & Die Techniker (TK) & company \\\\\n",
       "\t18 & 17 & 603089303044139 & Digvijaya Singh & politician \\\\\n",
       "\t19 & 18 & 107219255341 & 1st Armored Division Sustainment Brigade & government \\\\\n",
       "\t20 & 19 & 288891469878 & Shapeways & company \\\\\n",
       "\t21 & 20 & 200750393327673 & Françoise Guégot & politician \\\\\n",
       "\t22 & 21 & 312378712151391 & Hydro Coco & company \\\\\n",
       "\t23 & 22 & 197257747038268 & Embassy of the Netherlands in Uganda & government \\\\\n",
       "\t24 & 23 & 121925517901889 & Ford Danmark & company \\\\\n",
       "\t$\\dots$ & $\\dots$ & $\\dots$ & $\\dots$ & $\\dots$ \\\\\n",
       "\\end{tabular}\n"
      ],
      "text/plain": [
       "\u001b[1m22470×4 DataFrame\u001b[0m\n",
       "\u001b[1m   Row \u001b[0m│\u001b[1m id    \u001b[0m\u001b[1m facebook_id      \u001b[0m\u001b[1m page_name                         \u001b[0m\u001b[1m page_type  \u001b[0m\n",
       "\u001b[1m       \u001b[0m│\u001b[90m Int64 \u001b[0m\u001b[90m Int64            \u001b[0m\u001b[90m String                            \u001b[0m\u001b[90m String15   \u001b[0m\n",
       "───────┼────────────────────────────────────────────────────────────────────────\n",
       "     1 │     0   145647315578475  The Voice of China 中国好声音      tvshow\n",
       "     2 │     1      191483281412  U.S. Consulate General Mumbai      government\n",
       "     3 │     2   144761358898518  ESET                               company\n",
       "     4 │     3   568700043198473  Consulate General of Switzerland…  government\n",
       "     5 │     4  1408935539376139  Mark Bailey MP - Labor for Miller  politician\n",
       "     6 │     5   134464673284112  Victor Dominello MP                politician\n",
       "     7 │     6   282657255260177  Jean-Claude Poissant               politician\n",
       "     8 │     7   239338246176789  Deputado Ademir Camilo             politician\n",
       "   ⋮   │   ⋮           ⋮                          ⋮                      ⋮\n",
       " 22464 │ 22463      170298223273  Memphis VA Medical Center          government\n",
       " 22465 │ 22464      198333355974  Keurig                             company\n",
       " 22466 │ 22465  1379955382222841  Kurt Wiegel MdL                    politician\n",
       " 22467 │ 22466  1651527995097082  dubdub Stories                     company\n",
       " 22468 │ 22467   155369444540412  Ministerio del Interior - Paragu…  government\n",
       " 22469 │ 22468   175067819212798  Tottus Perú                        company\n",
       " 22470 │ 22469       27208897877  SPORT1 Doppelpass                  tvshow\n",
       "\u001b[36m                                                              22455 rows omitted\u001b[0m"
      ]
     },
     "metadata": {},
     "output_type": "display_data"
    }
   ],
   "source": [
    "# Data Preprocessing\n",
    "include(\"src/preprocessing.jl\")\n",
    "\n",
    "data = NetworkPreprocessing.preprocess(\"data/musae_facebook_edges.csv\",\n",
    "                  \"data/musae_facebook_target.csv\",\n",
    "                  \"data/musae_facebook_features.json\")\n",
    "\n",
    "g            = data.g\n",
    "labels       = data.labels\n",
    "label_code   = data.label_code\n",
    "label_levels = data.label_levels\n",
    "X            = data.X\n",
    "K            = data.K\n",
    "targets_df   = data.targets_df\n",
    "\n"
   ]
  },
  {
   "cell_type": "markdown",
   "metadata": {},
   "source": [
    "## Homophily Analysis"
   ]
  },
  {
   "cell_type": "code",
   "execution_count": 12,
   "metadata": {},
   "outputs": [
    {
     "name": "stdout",
     "output_type": "stream",
     "text": [
      "\n",
      "====== HOMOPHILY SUMMARY ======\n",
      "Edge homophily (same-category edge share): 0.8853\n",
      "Random-mixing baseline (Σ pₖ²): 0.2651\n",
      "Homophily ratio (observed / baseline): 3.339\n",
      "Assortativity (r): 0.821\n",
      "Mean node-level homophily: 0.883\n",
      "Median node-level homophily: 1.0\n",
      "\n",
      "Per-category internal edge share:\n",
      "  company: 0.836\n",
      "  government: 0.915\n",
      "  politician: 0.868\n",
      "  tvshow: 0.839\n",
      "=================================\n",
      "\n"
     ]
    },
    {
     "name": "stderr",
     "output_type": "stream",
     "text": [
      "WARNING: replacing module NetworkMetrics.\n"
     ]
    },
    {
     "data": {
      "text/plain": [
       "(0.8206200407380531, 0.8853198925203281, 0.2651177250822885, 3.339346293219506)"
      ]
     },
     "metadata": {},
     "output_type": "display_data"
    }
   ],
   "source": [
    "# Homophily Analysis\n",
    "include(\"src/homophily.jl\")\n",
    "\n",
    "hom = NetworkMetrics.summarize_homophily(g, label_code, K; label_levels=label_levels)\n",
    "(hom.r, hom.edge_h, hom.base, hom.ratio)"
   ]
  },
  {
   "cell_type": "markdown",
   "metadata": {},
   "source": [
    "## Structural Bridge "
   ]
  },
  {
   "cell_type": "code",
   "execution_count": 11,
   "metadata": {},
   "outputs": [
    {
     "name": "stderr",
     "output_type": "stream",
     "text": [
      "WARNING: replacing module NetworkBridge.\n",
      "┌ Warning: CommunityDetection.jl not found; using Graphs.label_propagation\n",
      "└ @ Main.NetworkBridge /workspaces/project1/src/structuralBridge.jl:19\n"
     ]
    },
    {
     "name": "stdout",
     "output_type": "stream",
     "text": [
      "Nodes: 22470   Edges: 170823   Communities: 940\n",
      "Betweenness: mean=0.0002  max=0.1158\n",
      "\n",
      "Top 15 structural bridges (high betweenness + high participation):\n",
      "\u001b[1m15×5 DataFrame\u001b[0m\n",
      "\u001b[1m Row \u001b[0m│\u001b[1m node  \u001b[0m\u001b[1m community \u001b[0m\u001b[1m betweenness \u001b[0m\u001b[1m participation \u001b[0m\u001b[1m bridge_score \u001b[0m\n",
      "\u001b[1m     \u001b[0m│\u001b[90m Int64 \u001b[0m\u001b[90m Int64     \u001b[0m\u001b[90m Float64     \u001b[0m\u001b[90m Float64       \u001b[0m\u001b[90m Float64      \u001b[0m\n",
      "─────┼────────────────────────────────────────────────────────────\n",
      "   1 │   702         10    0.11579         0.94097        95.0889\n",
      "   2 │ 11004          2    0.0896283       0.807664       73.6592\n",
      "   3 │ 21730          2    0.03982         0.63364        33.1615\n",
      "   4 │ 19744          2    0.0398052       0.627566       33.1267\n",
      "   5 │ 21121         29    0.0259536       0.629275       22.0543\n",
      "   6 │ 17984          2    0.0226966       0.827423       20.2\n",
      "   7 │  8483         10    0.0195573       0.64386        16.9936\n",
      "   8 │ 20416         92    0.0193082       0.404453       15.8872\n",
      "   9 │ 22172          2    0.0176409       0.514949       14.9723\n",
      "  10 │ 10380          2    0.015456        0.515432       13.2266\n",
      "  11 │ 11333          2    0.0145101       0.648219       12.9732\n",
      "  12 │ 11159         10    0.0131229       0.840513       12.5923\n",
      "  13 │ 19348          2    0.0133861       0.736587       12.409\n",
      "  14 │ 21663        117    0.0119105       0.956285       12.0613\n",
      "  15 │ 14791         27    0.013964        0.49015        11.9375\n",
      "Interpretation:\n",
      "• Participation captures how evenly a node’s ties spread across communities.\n",
      "• High betweenness + high participation ⇒ strong cross-community connector.\n"
     ]
    },
    {
     "data": {
      "text/html": [
       "<div><div style = \"float: left;\"><span>15×5 DataFrame</span></div><div style = \"clear: both;\"></div></div><div class = \"data-frame\" style = \"overflow-x: scroll;\"><table class = \"data-frame\" style = \"margin-bottom: 6px;\"><thead><tr class = \"columnLabelRow\"><th class = \"stubheadLabel\" style = \"font-weight: bold; text-align: right;\">Row</th><th style = \"text-align: left;\">node</th><th style = \"text-align: left;\">community</th><th style = \"text-align: left;\">betweenness</th><th style = \"text-align: left;\">participation</th><th style = \"text-align: left;\">bridge_score</th></tr><tr class = \"columnLabelRow\"><th class = \"stubheadLabel\" style = \"font-weight: bold; text-align: right;\"></th><th title = \"Int64\" style = \"text-align: left;\">Int64</th><th title = \"Int64\" style = \"text-align: left;\">Int64</th><th title = \"Float64\" style = \"text-align: left;\">Float64</th><th title = \"Float64\" style = \"text-align: left;\">Float64</th><th title = \"Float64\" style = \"text-align: left;\">Float64</th></tr></thead><tbody><tr class = \"dataRow\"><td class = \"rowLabel\" style = \"font-weight: bold; text-align: right;\">1</td><td style = \"text-align: right;\">702</td><td style = \"text-align: right;\">10</td><td style = \"text-align: right;\">0.11579</td><td style = \"text-align: right;\">0.94097</td><td style = \"text-align: right;\">95.0889</td></tr><tr class = \"dataRow\"><td class = \"rowLabel\" style = \"font-weight: bold; text-align: right;\">2</td><td style = \"text-align: right;\">11004</td><td style = \"text-align: right;\">2</td><td style = \"text-align: right;\">0.0896283</td><td style = \"text-align: right;\">0.807664</td><td style = \"text-align: right;\">73.6592</td></tr><tr class = \"dataRow\"><td class = \"rowLabel\" style = \"font-weight: bold; text-align: right;\">3</td><td style = \"text-align: right;\">21730</td><td style = \"text-align: right;\">2</td><td style = \"text-align: right;\">0.03982</td><td style = \"text-align: right;\">0.63364</td><td style = \"text-align: right;\">33.1615</td></tr><tr class = \"dataRow\"><td class = \"rowLabel\" style = \"font-weight: bold; text-align: right;\">4</td><td style = \"text-align: right;\">19744</td><td style = \"text-align: right;\">2</td><td style = \"text-align: right;\">0.0398052</td><td style = \"text-align: right;\">0.627566</td><td style = \"text-align: right;\">33.1267</td></tr><tr class = \"dataRow\"><td class = \"rowLabel\" style = \"font-weight: bold; text-align: right;\">5</td><td style = \"text-align: right;\">21121</td><td style = \"text-align: right;\">29</td><td style = \"text-align: right;\">0.0259536</td><td style = \"text-align: right;\">0.629275</td><td style = \"text-align: right;\">22.0543</td></tr><tr class = \"dataRow\"><td class = \"rowLabel\" style = \"font-weight: bold; text-align: right;\">6</td><td style = \"text-align: right;\">17984</td><td style = \"text-align: right;\">2</td><td style = \"text-align: right;\">0.0226966</td><td style = \"text-align: right;\">0.827423</td><td style = \"text-align: right;\">20.2</td></tr><tr class = \"dataRow\"><td class = \"rowLabel\" style = \"font-weight: bold; text-align: right;\">7</td><td style = \"text-align: right;\">8483</td><td style = \"text-align: right;\">10</td><td style = \"text-align: right;\">0.0195573</td><td style = \"text-align: right;\">0.64386</td><td style = \"text-align: right;\">16.9936</td></tr><tr class = \"dataRow\"><td class = \"rowLabel\" style = \"font-weight: bold; text-align: right;\">8</td><td style = \"text-align: right;\">20416</td><td style = \"text-align: right;\">92</td><td style = \"text-align: right;\">0.0193082</td><td style = \"text-align: right;\">0.404453</td><td style = \"text-align: right;\">15.8872</td></tr><tr class = \"dataRow\"><td class = \"rowLabel\" style = \"font-weight: bold; text-align: right;\">9</td><td style = \"text-align: right;\">22172</td><td style = \"text-align: right;\">2</td><td style = \"text-align: right;\">0.0176409</td><td style = \"text-align: right;\">0.514949</td><td style = \"text-align: right;\">14.9723</td></tr><tr class = \"dataRow\"><td class = \"rowLabel\" style = \"font-weight: bold; text-align: right;\">10</td><td style = \"text-align: right;\">10380</td><td style = \"text-align: right;\">2</td><td style = \"text-align: right;\">0.015456</td><td style = \"text-align: right;\">0.515432</td><td style = \"text-align: right;\">13.2266</td></tr><tr class = \"dataRow\"><td class = \"rowLabel\" style = \"font-weight: bold; text-align: right;\">11</td><td style = \"text-align: right;\">11333</td><td style = \"text-align: right;\">2</td><td style = \"text-align: right;\">0.0145101</td><td style = \"text-align: right;\">0.648219</td><td style = \"text-align: right;\">12.9732</td></tr><tr class = \"dataRow\"><td class = \"rowLabel\" style = \"font-weight: bold; text-align: right;\">12</td><td style = \"text-align: right;\">11159</td><td style = \"text-align: right;\">10</td><td style = \"text-align: right;\">0.0131229</td><td style = \"text-align: right;\">0.840513</td><td style = \"text-align: right;\">12.5923</td></tr><tr class = \"dataRow\"><td class = \"rowLabel\" style = \"font-weight: bold; text-align: right;\">13</td><td style = \"text-align: right;\">19348</td><td style = \"text-align: right;\">2</td><td style = \"text-align: right;\">0.0133861</td><td style = \"text-align: right;\">0.736587</td><td style = \"text-align: right;\">12.409</td></tr><tr class = \"dataRow\"><td class = \"rowLabel\" style = \"font-weight: bold; text-align: right;\">14</td><td style = \"text-align: right;\">21663</td><td style = \"text-align: right;\">117</td><td style = \"text-align: right;\">0.0119105</td><td style = \"text-align: right;\">0.956285</td><td style = \"text-align: right;\">12.0613</td></tr><tr class = \"dataRow\"><td class = \"rowLabel\" style = \"font-weight: bold; text-align: right;\">15</td><td style = \"text-align: right;\">14791</td><td style = \"text-align: right;\">27</td><td style = \"text-align: right;\">0.013964</td><td style = \"text-align: right;\">0.49015</td><td style = \"text-align: right;\">11.9375</td></tr></tbody></table></div>"
      ],
      "text/latex": [
       "\\begin{tabular}{r|ccccc}\n",
       "\t& node & community & betweenness & participation & bridge\\_score\\\\\n",
       "\t\\hline\n",
       "\t& Int64 & Int64 & Float64 & Float64 & Float64\\\\\n",
       "\t\\hline\n",
       "\t1 & 702 & 10 & 0.11579 & 0.94097 & 95.0889 \\\\\n",
       "\t2 & 11004 & 2 & 0.0896283 & 0.807664 & 73.6592 \\\\\n",
       "\t3 & 21730 & 2 & 0.03982 & 0.63364 & 33.1615 \\\\\n",
       "\t4 & 19744 & 2 & 0.0398052 & 0.627566 & 33.1267 \\\\\n",
       "\t5 & 21121 & 29 & 0.0259536 & 0.629275 & 22.0543 \\\\\n",
       "\t6 & 17984 & 2 & 0.0226966 & 0.827423 & 20.2 \\\\\n",
       "\t7 & 8483 & 10 & 0.0195573 & 0.64386 & 16.9936 \\\\\n",
       "\t8 & 20416 & 92 & 0.0193082 & 0.404453 & 15.8872 \\\\\n",
       "\t9 & 22172 & 2 & 0.0176409 & 0.514949 & 14.9723 \\\\\n",
       "\t10 & 10380 & 2 & 0.015456 & 0.515432 & 13.2266 \\\\\n",
       "\t11 & 11333 & 2 & 0.0145101 & 0.648219 & 12.9732 \\\\\n",
       "\t12 & 11159 & 10 & 0.0131229 & 0.840513 & 12.5923 \\\\\n",
       "\t13 & 19348 & 2 & 0.0133861 & 0.736587 & 12.409 \\\\\n",
       "\t14 & 21663 & 117 & 0.0119105 & 0.956285 & 12.0613 \\\\\n",
       "\t15 & 14791 & 27 & 0.013964 & 0.49015 & 11.9375 \\\\\n",
       "\\end{tabular}\n"
      ],
      "text/plain": [
       "\u001b[1m15×5 DataFrame\u001b[0m\n",
       "\u001b[1m Row \u001b[0m│\u001b[1m node  \u001b[0m\u001b[1m community \u001b[0m\u001b[1m betweenness \u001b[0m\u001b[1m participation \u001b[0m\u001b[1m bridge_score \u001b[0m\n",
       "\u001b[1m     \u001b[0m│\u001b[90m Int64 \u001b[0m\u001b[90m Int64     \u001b[0m\u001b[90m Float64     \u001b[0m\u001b[90m Float64       \u001b[0m\u001b[90m Float64      \u001b[0m\n",
       "─────┼────────────────────────────────────────────────────────────\n",
       "   1 │   702         10    0.11579         0.94097        95.0889\n",
       "   2 │ 11004          2    0.0896283       0.807664       73.6592\n",
       "   3 │ 21730          2    0.03982         0.63364        33.1615\n",
       "   4 │ 19744          2    0.0398052       0.627566       33.1267\n",
       "   5 │ 21121         29    0.0259536       0.629275       22.0543\n",
       "   6 │ 17984          2    0.0226966       0.827423       20.2\n",
       "   7 │  8483         10    0.0195573       0.64386        16.9936\n",
       "   8 │ 20416         92    0.0193082       0.404453       15.8872\n",
       "   9 │ 22172          2    0.0176409       0.514949       14.9723\n",
       "  10 │ 10380          2    0.015456        0.515432       13.2266\n",
       "  11 │ 11333          2    0.0145101       0.648219       12.9732\n",
       "  12 │ 11159         10    0.0131229       0.840513       12.5923\n",
       "  13 │ 19348          2    0.0133861       0.736587       12.409\n",
       "  14 │ 21663        117    0.0119105       0.956285       12.0613\n",
       "  15 │ 14791         27    0.013964        0.49015        11.9375"
      ]
     },
     "metadata": {},
     "output_type": "display_data"
    }
   ],
   "source": [
    "include(\"src/structuralBridge.jl\")\n",
    "\n",
    "top = NetworkBridge.summarize_bridges(g; top_n=15) "
   ]
  },
  {
   "cell_type": "markdown",
   "metadata": {},
   "source": [
    "## Structural Balance"
   ]
  },
  {
   "cell_type": "code",
   "execution_count": 13,
   "metadata": {},
   "outputs": [
    {
     "name": "stdout",
     "output_type": "stream",
     "text": [
      "====== STRUCTURAL BALANCE SUMMARY ======\n",
      "Triangles (closed triads):            794953\n",
      "Balanced triads ratio:                0.9991\n",
      "\n",
      "Friend-of-friend positive closure:\n",
      "  Qualifying wedges (A–B, A–C +pos):  8462510\n",
      "  Closed positive wedges (B–C +pos):  2215872\n",
      "  Closure rate (observed):            0.2618\n",
      "\n"
     ]
    },
    {
     "data": {
      "text/plain": [
       "(n_triads = 794953, balance_ratio = 0.9991408297094294, fof_pos_closure = 0.2618457171690196, fof_baseline_mean = NaN, fof_baseline_std = NaN, fof_lift = NaN, fof_zscore = NaN)"
      ]
     },
     "metadata": {},
     "output_type": "display_data"
    }
   ],
   "source": [
    "include(\"src/structuralBalance.jl\")\n",
    "\n",
    "balance_stats = NetworkBalance.structural_balance_summary(g, label_code; R=50)"
   ]
  },
  {
   "cell_type": "markdown",
   "metadata": {},
   "source": [
    "# Results"
   ]
  },
  {
   "cell_type": "markdown",
   "metadata": {},
   "source": [
    "# Discussion"
   ]
  },
  {
   "cell_type": "markdown",
   "metadata": {},
   "source": [
    "# Conclusion"
   ]
  }
 ],
 "metadata": {
  "kernelspec": {
   "display_name": "Julia 1.10.10",
   "language": "julia",
   "name": "julia-1.10"
  },
  "language_info": {
   "file_extension": ".jl",
   "mimetype": "application/julia",
   "name": "julia",
   "version": "1.10.10"
  },
  "orig_nbformat": 4,
  "vscode": {
   "interpreter": {
    "hash": "aee8b7b246df8f9039afb4144a1f6fd8d2ca17a180786b69acc140d282b71a49"
   }
  }
 },
 "nbformat": 4,
 "nbformat_minor": 2
}
